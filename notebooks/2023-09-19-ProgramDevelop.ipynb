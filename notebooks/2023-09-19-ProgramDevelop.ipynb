{
 "cells": [
  {
   "cell_type": "code",
   "execution_count": 1,
   "metadata": {},
   "outputs": [
    {
     "name": "stdout",
     "output_type": "stream",
     "text": [
      "List of Numbers: [10, 20, 30, 40, 50]\n",
      "Sum of Numbers: 150\n",
      "Average: 30.0\n"
     ]
    }
   ],
   "source": [
    "# Define a list of numbers\n",
    "numbers = [10, 20, 30, 40, 50]\n",
    "\n",
    "# Initialize a variable to store the sum of numbers\n",
    "total = 0\n",
    "\n",
    "# Iterate through the list of numbers\n",
    "for num in numbers:\n",
    "    # Add each number to the total\n",
    "    total += num\n",
    "\n",
    "# Calculate the average by dividing the total by the number of elements in the list\n",
    "average = total / len(numbers)\n",
    "\n",
    "# Print the list of numbers\n",
    "print(\"List of Numbers:\", numbers)\n",
    "\n",
    "# Print the sum of numbers\n",
    "print(\"Sum of Numbers:\", total)\n",
    "\n",
    "# Print the average\n",
    "print(\"Average:\", average)"
   ]
  }
 ],
 "metadata": {
  "kernelspec": {
   "display_name": "Python 3",
   "language": "python",
   "name": "python3"
  },
  "language_info": {
   "codemirror_mode": {
    "name": "ipython",
    "version": 3
   },
   "file_extension": ".py",
   "mimetype": "text/x-python",
   "name": "python",
   "nbconvert_exporter": "python",
   "pygments_lexer": "ipython3",
   "version": "3.11.4"
  },
  "orig_nbformat": 4
 },
 "nbformat": 4,
 "nbformat_minor": 2
}
