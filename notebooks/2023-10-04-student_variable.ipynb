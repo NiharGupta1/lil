{
 "cells": [
  {
   "cell_type": "code",
   "execution_count": 6,
   "metadata": {},
   "outputs": [
    {
     "name": "stdout",
     "output_type": "stream",
     "text": [
      "Nihar is 6 foot tall, he is very cool and pretty super cool\n"
     ]
    }
   ],
   "source": [
    "z = \"Nihar is 6 foot tall, he is very cool and pretty super cool\"\n",
    "print(z)"
   ]
  },
  {
   "cell_type": "code",
   "execution_count": 11,
   "metadata": {},
   "outputs": [
    {
     "name": "stdout",
     "output_type": "stream",
     "text": [
      "98 is an integer\n",
      "False is a boolean\n",
      "Nihar is a string\n"
     ]
    }
   ],
   "source": [
    "highScore = 98\n",
    "isRaining = False \n",
    "firstName = \"Nihar\"\n",
    "print (str(highScore) + \" is an integer\")\n",
    "print (str(isRaining)+ \" is a boolean\")\n",
    "print (firstName + \" is a string\")"
   ]
  },
  {
   "cell_type": "code",
   "execution_count": 15,
   "metadata": {},
   "outputs": [
    {
     "name": "stdout",
     "output_type": "stream",
     "text": [
      "7\n"
     ]
    }
   ],
   "source": [
    "currentScore = 10 \n",
    "highScore = currentScore\n",
    "highScore = 7 \n",
    "print (str(highScore))"
   ]
  },
  {
   "cell_type": "code",
   "execution_count": 20,
   "metadata": {},
   "outputs": [
    {
     "name": "stdout",
     "output_type": "stream",
     "text": [
      "10\n",
      "10\n",
      "25\n"
     ]
    }
   ],
   "source": [
    "num1 = 25\n",
    "num2 = 15\n",
    "num3 = 10\n",
    "num2 = num3\n",
    "num3 = num1\n",
    "num1 = num2\n",
    "print (str(num1))\n",
    "print (str(num2))\n",
    "print (str(num3))"
   ]
  },
  {
   "cell_type": "code",
   "execution_count": 23,
   "metadata": {},
   "outputs": [
    {
     "name": "stdout",
     "output_type": "stream",
     "text": [
      "Nihar\n",
      "Jayden\n",
      "Will\n",
      "Howie\n"
     ]
    }
   ],
   "source": [
    "groupNames = [\"Nihar\", \"Jayden\", \"Will\", \"Howie\"]\n",
    "print(groupNames[0])\n",
    "print(groupNames[1])\n",
    "print(groupNames[2])\n",
    "print(groupNames[3])"
   ]
  },
  {
   "cell_type": "code",
   "execution_count": 24,
   "metadata": {},
   "outputs": [
    {
     "name": "stdout",
     "output_type": "stream",
     "text": [
      "Chem\n",
      "Chem\n",
      "Chem\n",
      "Chem\n"
     ]
    }
   ],
   "source": [
    "groupClasses = [\"APCSP\", \"APWH\", \"Chem\", \"3a\"]\n",
    "print(groupClasses[2])\n",
    "print(groupClasses[2])\n",
    "print(groupClasses[2])\n",
    "print(groupClasses[2])"
   ]
  },
  {
   "cell_type": "code",
   "execution_count": 25,
   "metadata": {},
   "outputs": [
    {
     "name": "stdout",
     "output_type": "stream",
     "text": [
      "[23, 25, 96, 55]\n"
     ]
    }
   ],
   "source": [
    "scores1 = [89,722,34,56,83]\n",
    "scores2 =[23, 25, 96, 55]\n",
    "scores1 = scores2 \n",
    "print(str(scores1))"
   ]
  },
  {
   "cell_type": "markdown",
   "metadata": {},
   "source": [
    "## Hack 1 \n",
    "Integer: variable 1\n",
    "list: variable 4\n",
    "Boolean: variable 3\n",
    "string: variable 2"
   ]
  },
  {
   "cell_type": "code",
   "execution_count": 6,
   "metadata": {},
   "outputs": [
    {
     "name": "stdout",
     "output_type": "stream",
     "text": [
      "1\n",
      "basketball\n",
      "True\n",
      "['Kaledios, creambetweens , Double Stuffed ,  Twist n Shout , Sandwhich Cremes , Mr Creamy']\n"
     ]
    }
   ],
   "source": [
    "\n",
    "# variable 1\n",
    "\n",
    "numNihars = 1\n",
    "print(numNihars)\n",
    "\n",
    "# variable 2\n",
    "sport = \"basketball\"\n",
    "print(sport)\n",
    "\n",
    "# variable 3\n",
    "kalediosbetterThanOreos = True\n",
    "print(kalediosbetterThanOreos)\n",
    "\n",
    "# variable 4\n",
    "bestOreos = [\"Kaledios, creambetweens , Double Stuffed ,  Twist n Shout , Sandwhich Cremes , Mr Creamy\"]\n",
    "print(bestOreos)\n",
    "\n",
    "\n"
   ]
  },
  {
   "cell_type": "code",
   "execution_count": 4,
   "metadata": {},
   "outputs": [
    {
     "name": "stdout",
     "output_type": "stream",
     "text": [
      "15\n",
      "oreo\n",
      "<class 'list'>\n",
      "[[\"kaledios, oreos, sandwhich cremes, creme betweens\"]]\n",
      "<class 'str'>\n",
      "True\n"
     ]
    }
   ],
   "source": [
    "# variable 1\n",
    "numofWills = 15\n",
    "print(numofWills)\n",
    "# variable 2\n",
    "candy = \"oreo\"\n",
    "print(candy)\n",
    "# variable 4\n",
    "bestoreos = [\"kaledios, oreos, sandwhich cremes, creme betweens\"]\n",
    "import json\n",
    "list = [bestoreos]\n",
    "print(type(list))\n",
    "bestoreos = json.dumps(list)\n",
    "print(bestoreos)\n",
    "print(type(bestoreos))\n",
    "# variable 3\n",
    "kalediosbetterthanoreos = True\n",
    "print(kalediosbetterthanoreos)"
   ]
  }
 ],
 "metadata": {
  "kernelspec": {
   "display_name": "Python 3",
   "language": "python",
   "name": "python3"
  },
  "language_info": {
   "codemirror_mode": {
    "name": "ipython",
    "version": 3
   },
   "file_extension": ".py",
   "mimetype": "text/x-python",
   "name": "python",
   "nbconvert_exporter": "python",
   "pygments_lexer": "ipython3",
   "version": "3.11.4"
  },
  "orig_nbformat": 4
 },
 "nbformat": 4,
 "nbformat_minor": 2
}
