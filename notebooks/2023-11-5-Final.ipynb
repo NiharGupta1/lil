{
 "cells": [
  {
   "cell_type": "markdown",
   "metadata": {},
   "source": [
    "<h1> Tri 1 Student Final</h1>\n",
    "<h3> Tri 1 Final Reflection</h3>"
   ]
  },
  {
   "cell_type": "markdown",
   "metadata": {},
   "source": [
    "Reflecting on my year in an AP Computer Science Principles (AP CSP) class, there are several key takeaways and insights that come to mind. This course is designed to introduce students to the world of computer science, programming, and computational thinking, and it provides a foundation for understanding the broader impact of technology on society. Here are some of my personal reflections on the experience:\n",
    "\n",
    "Broadening My Perspective: AP CSP has exposed me to a diverse range of computing concepts, from algorithms and data to the ethical and social implications of technology. It has encouraged me to think beyond coding and to understand how technology affects society.\n",
    "\n",
    "Developing Problem-Solving Skills: One of the primary objectives of AP CSP is to develop problem-solving skills. I've learned how to approach complex problems, break them down into manageable parts, and devise solutions through programming. These skills are not only valuable in computer science but also in various aspects of life.\n",
    "\n",
    "Coding and Abstraction: I've gained a fundamental understanding of coding and abstraction, realizing that complex problems can be broken down into simpler steps and coded in a way that a computer can execute. This abstraction is a key concept in computer science and extends to many areas of life.\n",
    "\n",
    "Collaboration: The course often includes collaborative projects, which have taught me how to work effectively in teams. Collaboration is a crucial skill, not only in computer science but also in most professional settings.\n",
    "\n",
    "Creative Expression: Computer science is not just about numbers and logic; it's also a form of creative expression. In AP CSP, I've discovered how to create programs and interactive applications that reflect my ideas and creativity.\n",
    "\n",
    "Ethical Considerations: AP CSP delves into the ethical and societal impacts of technology. It has prompted me to consider issues like privacy, security, and the responsible use of data. These discussions are vital in a world increasingly shaped by technology.\n",
    "\n",
    "Real-World Relevance: This course has demonstrated how computer science is relevant to real-world problems. I've learned how computational thinking can be applied to various fields, from healthcare and finance to environmental science.\n",
    "\n",
    "Preparation for Further Studies: For me, as someone who plans to pursue computer science in college, AP CSP has provided an excellent foundation. It has introduced me to the basics of programming, data analysis, and more, which I believe will make the transition to higher-level courses smoother.\n",
    "\n",
    "Overcoming Challenges: Computer science can be challenging, but through this course, I've learned how to persevere, debug code, and overcome obstacles. These problem-solving skills are transferable to other areas of life.\n",
    "\n",
    "Life Skills: Beyond the technical aspects, AP CSP has equipped me with critical life skills, such as adaptability, logical thinking, and a growth mindset. These skills are invaluable in a world that is constantly evolving.\n",
    "\n",
    "In conclusion, my experience in an AP CSP class has offered me a rich and multifaceted learning journey. It has not only equipped me with essential computer science knowledge but has also fostered a deeper understanding of how technology impacts the world. The course has instilled problem-solving skills, ethical awareness, and the ability to collaborate effectively, making it a valuable educational experience for me as I pursue my interests in computer science and seek to develop important life skills."
   ]
  },
  {
   "cell_type": "markdown",
   "metadata": {},
   "source": [
    "<h1> Work From Calorie Calulator</h1>"
   ]
  },
  {
   "cell_type": "code",
   "execution_count": null,
   "metadata": {},
   "outputs": [],
   "source": [
    "import threading\n",
    "\n",
    "# import \"packages\" from flask\n",
    "from flask import render_template  # import render_template from \"public\" flask libraries\n",
    "from flask_sqlalchemy import SQLAlchemy\n",
    "\n",
    "# import \"packages\" from \"this\" project\n",
    "from __init__ import app,db  # Definitions initialization\n",
    "from model.jokes import initJokes\n",
    "from model.users import initUsers\n",
    "from model.players import initPlayers\n",
    "from model.calcalcs import initCalories\n",
    "\n",
    "# setup APIs\n",
    "from api.covid import covid_api # Blueprint import api definition\n",
    "from api.joke import joke_api # Blueprint import api definition\n",
    "from api.user import user_api # Blueprint import api definition\n",
    "from api.player import player_api\n",
    "from api.calcalc import calcalc_api\n",
    "\n",
    "# setup App pages\n",
    "from projects.projects import app_projects # Blueprint directory import projects definition\n",
    "\n",
    "\n",
    "# Initialize the SQLAlchemy object to work with the Flask app instance\n",
    "db.init_app(app)\n",
    "\n",
    "# register URIs\n",
    "app.register_blueprint(calcalc_api)\n",
    "app.register_blueprint(joke_api) # register api routes\n",
    "app.register_blueprint(covid_api) # register api routes\n",
    "app.register_blueprint(user_api) # register api routes\n",
    "app.register_blueprint(player_api)\n",
    "app.register_blueprint(app_projects) # register app pages\n",
    "\n",
    "@app.errorhandler(404)  # catch for URL not found\n",
    "def page_not_found(e):\n",
    "    # note that we set the 404 status explicitly\n",
    "    return render_template('404.html'), 404\n",
    "\n",
    "@app.route('/')  # connects default URL to index() function\n",
    "def index():\n",
    "    return render_template(\"index.html\")\n",
    "\n",
    "@app.route('/table/')  # connects /stub/ URL to stub() function\n",
    "def table():\n",
    "    return render_template(\"table.html\")\n",
    "\n",
    "\n",
    "\n",
    "@app.before_first_request\n",
    "def activate_job():  # activate these items \n",
    "    initJokes()\n",
    "    initUsers()\n",
    "    initPlayers()\n",
    "\n",
    "# this runs the application on the development server\n",
    "if __name__ == \"__main__\":\n",
    "    # change name for testing\n",
    "    from flask_cors import CORS\n",
    "    cors = CORS(app)\n",
    "    app.run(debug=True, host=\"0.0.0.0\", port=\"8169\")\n"
   ]
  },
  {
   "cell_type": "markdown",
   "metadata": {},
   "source": [
    "This is a Python script that creates a website using Flask. It sets up different pages for the website, like the homepage (\"/\") and a page called \"/table/\". It also handles errors and initializes some things before making the website run. The website will be visible on the internet at address 0.0.0.0 and port 8169.\n",
    "\n",
    "\n",
    "\n",
    "\n"
   ]
  },
  {
   "cell_type": "code",
   "execution_count": null,
   "metadata": {},
   "outputs": [],
   "source": [
    "class CalCalcAPI(Resource):\n",
    "    def post(self):\n",
    "        try:\n",
    "            data = request.get_json()\n",
    "\n",
    "            # Ensure that all required fields are present in the request JSON\n",
    "            required_fields = ['age', 'weight', 'height', 'activity', 'gender', 'username']\n",
    "            for field in required_fields:\n",
    "                if field not in data:\n",
    "                    return {'error': f\"Missing field: {field}\"}, 400\n",
    "\n",
    "            # Calculate calorie maintenance (you can reuse your client-side logic here)\n",
    "            calorie_maintenance = calculateCalories(data)\n",
    "\n",
    "            # Calculate the meal plan based on calorie maintenance\n",
    "            mealPlan = ''\n",
    "            mealPlanNumber = 0\n",
    "            if calorie_maintenance < 1000:\n",
    "                mealPlan = 'Meal Plan 1'\n",
    "            else:\n",
    "                mealPlanNumber = (calorie_maintenance - 1000) // 250 + 1\n",
    "                mealPlan = f'Meal Plan {mealPlanNumber}'\n"
   ]
  },
  {
   "cell_type": "markdown",
   "metadata": {},
   "source": [
    "This code defines a Python class called CalCalcAPI that's used to handle incoming requests to a web service. When a user sends data to this service, it first checks if the required information, like age, weight, height, activity level, gender, and username, is present in the request. If any of these are missing, it sends back an error message.\n",
    "\n",
    "Next, the code calculates the number of calories a person needs to maintain their weight (calorie maintenance) using a function called calculateCalories. Then, it determines a meal plan based on this calorie maintenance. If the maintenance is less than 1000 calories, it sets the meal plan to \"Meal Plan 1.\" If it's more, it calculates a meal plan number based on the maintenance and assigns a corresponding plan name, like \"Meal Plan 2,\" \"Meal Plan 3,\" and so on. This code is part of a web application that helps users plan their meals based on their information."
   ]
  },
  {
   "cell_type": "markdown",
   "metadata": {},
   "source": [
    "<h1> Team Teach Summaries/Understandings </h1>"
   ]
  },
  {
   "cell_type": "markdown",
   "metadata": {},
   "source": [
    "Simulations and Algorithmic Efficiency: Simulations involve emulating real-world processes using computational models, and algorithmic efficiency is crucial for optimizing the performance of these simulations.\n",
    "\n",
    "Libraries: Libraries are pre-written collections of code that provide reusable functions and tools for various programming tasks.\n",
    "\n",
    "Lists and Searches: Lists are data structures that store ordered collections of items, and searches involve looking for a specific item within a list efficiently.\n",
    "\n",
    "Algorithms: Algorithms are step-by-step instructions for solving specific computational problems or performing tasks, often used in programming and mathematics.\n",
    "\n",
    "Developing Algorithms: Developing algorithms is the process of designing and creating well-defined sequences of steps to solve particular problems or accomplish specific goals.\n",
    "\n",
    "Iteration: Iteration involves repeating a set of instructions or processes multiple times, often in a loop, to achieve a desired outcome or handle a series of data elements.\n",
    "\n",
    "Boolean Expressions & Conditionals: Boolean expressions are logical statements that evaluate to either true or false, and conditionals are programming constructs used to make decisions based on the truth or falsity of these expressions."
   ]
  }
 ],
 "metadata": {
  "language_info": {
   "name": "python"
  }
 },
 "nbformat": 4,
 "nbformat_minor": 2
}
