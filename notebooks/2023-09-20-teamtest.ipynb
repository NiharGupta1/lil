{
 "cells": [
  {
   "cell_type": "markdown",
   "metadata": {},
   "source": [
    "---\n",
    "toc: true\n",
    "comments: true\n",
    "title: Team Test\n",
    "courses: {\"csp\": {\"week\": 5} }\n",
    "type: tangibles\n",
    "permalink: /Team-Test\n",
    "---"
   ]
  },
  {
   "cell_type": "markdown",
   "metadata": {},
   "source": [
    "\n",
    "## Collaboration Review\n",
    "What are the benefits of a team?\n",
    "- Collaboration: Teams bring together diverse perspectives and skills, enhancing problem-solving and creativity.\n",
    "- Increased Productivity: Team members can divide tasks, reducing individual workload and achieving goals faster.\n",
    "- Knowledge Sharing: Teams allow for the exchange of expertise and learning opportunities.\n",
    "- Support and Motivation: Team members can provide emotional support and motivation, boosting morale.\n",
    "- Better Decision-Making: Diverse opinions lead to well-rounded decisions.\n",
    "- Risk Mitigation: Multiple minds can identify and address potential issues more effectively.\n",
    "Our team comprises members from various cultural backgrounds, enriching our perspectives and approaches. We have individuals with a wide range of skills, from technical to creative, ensuring comprehensive problem-solving. \n",
    "\n",
    "Things we will do to facilitate communication amongst group members:\n",
    "- Regular Meetings: We will hold regular team meetings every class to discuss progress, issues, and updates.\n",
    "- Communication Tools: We will utilize communication tools like text, snapchat, and slack.\n",
    "- Open Code Policy: Encouraging open and honest communication and collaboration, team members can refer to eachother's codes for help and collaboration.\n",
    "- Clear Channels: Establishing clear channels for reporting problems or seeking assistance.\n",
    "\n",
    "We will hold each person accountable for their portion of the work by:\n",
    "- Assigning Roles and Responsibilities: Clearly defining who is responsible for what tasks from the outset.\n",
    "- Deadlines: Setting specific deadlines for each task or project phase.\n",
    "- Review Tickets: Using review tickets or task tracking software to monitor progress and completion.\n",
    "- Peer Reviews: Implementing a peer review process where team members assess each other's work.\n",
    "- Performance Metrics: Tracking individual performance metrics and discussing progress during team meetings.\n",
    "- Consequences and Rewards: Implementing a system of consequences for missed deadlines and rewards for exceptional performance."
   ]
  },
  {
   "cell_type": "markdown",
   "metadata": {},
   "source": [
    "## Program Function and Purpose\n",
    "Program with Output: Print Function\n",
    "Program with Input and Output: Python Quiz\n",
    "Program with a List: Cool Kid List\n",
    "Program with a Dictionary: Word Search\n",
    "Program with Iteration: Cool Kid List\n",
    "Program with a Function to perform mathematical and/or a statistical calculations: Average Calculator\n",
    "Program with a Selection/Condition: x-value test\n",
    "Finish with a Program with Purpose: Pacman\n"
   ]
  },
  {
   "cell_type": "code",
   "execution_count": 6,
   "metadata": {},
   "outputs": [
    {
     "name": "stdout",
     "output_type": "stream",
     "text": [
      "👍 Jayden and Will are awesome! 😀\n"
     ]
    }
   ],
   "source": [
    "from emoji import emojize \n",
    "print(emojize(\":thumbs_up: Jayden and Will are awesome! :grinning_face:\"))"
   ]
  },
  {
   "cell_type": "code",
   "execution_count": 7,
   "metadata": {},
   "outputs": [
    {
     "name": "stdout",
     "output_type": "stream",
     "text": [
      "Hello, Jayden.Chen running /opt/homebrew/opt/python@3.11/bin/python3.11\n",
      "You will be asked 3 questions.\n",
      "Question: Are you ready to take a test?\n",
      "Question: What is the best baby name?\n",
      " is incorrect!\n",
      "Question: Does Will smell?\n",
      " is incorrect!\n",
      "Question: Who is the next president of the USA\n",
      " is incorrect!\n",
      "Jayden.Chen you scored 0/3\n"
     ]
    }
   ],
   "source": [
    "import getpass, sys\n",
    "def question_with_response(prompt):\n",
    "    print(\"Question: \" + prompt)\n",
    "    msg = input()\n",
    "    return msg\n",
    "questions = 3\n",
    "correct = 0\n",
    "print('Hello, ' + getpass.getuser() + \" running \" + sys.executable)\n",
    "print(\"You will be asked \" + str(questions) + \" questions.\")\n",
    "question_with_response(\"Are you ready to take a test?\")\n",
    "rsp = question_with_response(\"What is the best baby name?\")\n",
    "if rsp == \"jayden\":\n",
    "    print(rsp + \" is correct!\")\n",
    "    correct += 1\n",
    "else:\n",
    "    print(rsp + \" is incorrect!\")\n",
    "rsp = question_with_response(\"Does Will smell?\")\n",
    "if rsp == \"yes\":\n",
    "    print(rsp + \" is correct!\")\n",
    "    correct += 1\n",
    "else:\n",
    "    print(rsp + \" is incorrect!\")\n",
    "rsp = question_with_response(\"Who is the next president of the USA\")\n",
    "if rsp == \"jayden chen\":\n",
    "    print(rsp + \" is correct!\")\n",
    "    correct += 1\n",
    "else:\n",
    "    print(rsp + \" is incorrect!\")\n",
    "print(getpass.getuser() + \" you scored \" + str(correct) +\"/\" + str(questions))"
   ]
  },
  {
   "cell_type": "code",
   "execution_count": null,
   "metadata": {},
   "outputs": [],
   "source": [
    "# Define an empty List called InfoDb\n",
    "InfoDb = []\n",
    "\n",
    "# InfoDB is a data structure with expected Keys and Values\n",
    "\n",
    "# Append to List a Dictionary of key/values related to a person and cars\n",
    "InfoDb.append({\n",
    "    \"FirstName\": \"Jayden\",\n",
    "    \"LastName\": \"Chen\",\n",
    "    \"DOB\": \"May 31, 2007\",\n",
    "    \"Residence\": \"San Diego\",\n",
    "    \"Email\": \"jaydenchen16@gmail.com\",\n",
    "    \"Cool?\": [\"Yes\"]\n",
    "})\n",
    "\n",
    "# Append to List a 2nd Dictionary of key/values\n",
    "InfoDb.append({\n",
    "    \"FirstName\": \"Will\",\n",
    "    \"LastName\": \"Bartelt\",\n",
    "    \"DOB\": \"September 25, 2006\",\n",
    "    \"Residence\": \"San Diego\",\n",
    "    \"Email\": \"willbartelt@gmail.com\",\n",
    "    \"Cool\": [\"Yes\"]\n",
    "})\n",
    "\n",
    "# Append to List a 2nd Dictionary of key/values\n",
    "InfoDb.append({\n",
    "    \"FirstName\": \"Howie\",\n",
    "    \"LastName\": \"Nguyen\",\n",
    "    \"DOB\": \"January 21, 2007\",\n",
    "    \"Residence\": \"San Diego\",\n",
    "    \"Email\": \"howien07@gmail.com\",\n",
    "    \"Cool?\": [\"Yes\"]\n",
    "})\n",
    "\n",
    "# Append to List a 3rd Dictionary of key/values\n",
    "InfoDb.append({\n",
    "    \"FirstName\": \"Nihar\",\n",
    "    \"LastName\": \"Gupta\",\n",
    "    \"DOB\": \"September 10, 2008\",\n",
    "    \"Residence\": \"San Diego\",\n",
    "    \"Email\": \"niharg@gmail.com\",\n",
    "    \"Cool?\": [\"Yes\"]\n",
    "})\n",
    "\n",
    "# Print the data structure\n",
    "print(InfoDb)"
   ]
  },
  {
   "cell_type": "code",
   "execution_count": 8,
   "metadata": {},
   "outputs": [
    {
     "name": "stdout",
     "output_type": "stream",
     "text": [
      "Noun:\n",
      "  - an expression of greeting\n",
      "Noun:\n",
      "  - the limits within which something can be effective\n",
      "  - the act of physically reaching or thrusting out\n",
      "  - the limit of capability\n",
      "Verb:\n",
      "  - reach a destination, either real or abstract\n",
      "  - reach a point in time, or a certain state or level\n",
      "  - move forward or upward in order to touch; also in a metaphorical sense\n",
      "  - be in or establish communication with\n",
      "  - to gain with effort\n",
      "  - to extend as far as\n",
      "  - reach a goal\n",
      "  - place into the hands or custody of\n",
      "  - to exert much effort or energy\n"
     ]
    }
   ],
   "source": [
    "from PyDictionary import PyDictionary\n",
    "\n",
    "#Initialize the PyDictionary\n",
    "dictionary = PyDictionary()\n",
    "\n",
    "#Function to fetch the meaning of a word\n",
    "def fetch_meaning(word):\n",
    "    try:\n",
    "        meanings = dictionary.meaning(word)\n",
    "        if meanings:\n",
    "            for part_of_speech, definition_list in meanings.items():\n",
    "                print(f\"{part_of_speech}:\")\n",
    "                for definition in definition_list:\n",
    "                    print(f\"  - {definition}\")\n",
    "        else:\n",
    "            print(f\"Meaning not found for '{word}'\")\n",
    "    except Exception as e:\n",
    "        print(f\"An error occurred: {e}\")\n",
    "\n",
    "#Simple CLI interface for word lookup\n",
    "while True:\n",
    "    user_input = input(\"Enter a word to lookup (or 'exit' to quit): \").strip()\n",
    "\n",
    "    if user_input.lower() == 'exit':\n",
    "        break\n",
    "\n",
    "    fetch_meaning(user_input)"
   ]
  },
  {
   "cell_type": "code",
   "execution_count": null,
   "metadata": {},
   "outputs": [],
   "source": [
    "# Define an empty List called InfoDb\n",
    "InfoDb = []\n",
    "\n",
    "# InfoDB is a data structure with expected Keys and Values\n",
    "\n",
    "# Append to List a Dictionary of key/values related to a person and coolness\n",
    "InfoDb.append({\n",
    "    \"FirstName\": \"Jayden\",\n",
    "    \"LastName\": \"Chen\",\n",
    "    \"DOB\": \"May 31, 2007\",\n",
    "    \"Residence\": \"San Diego\",\n",
    "    \"Email\": \"jaydenchen16@gmail.com\",\n",
    "    \"Cool?\": [\"Yes\"]\n",
    "})\n",
    "\n",
    "# Append to List a 2nd Dictionary of key/values\n",
    "InfoDb.append({\n",
    "    \"FirstName\": \"Will\",\n",
    "    \"LastName\": \"Bartelt\",\n",
    "    \"DOB\": \"September 25, 2006\",\n",
    "    \"Residence\": \"San Diego\",\n",
    "    \"Email\": \"willbartelt@gmail.com\",\n",
    "    \"Cool?\": [\"Yes\"]\n",
    "})\n",
    "\n",
    "# Append to List a 2nd Dictionary of key/values\n",
    "InfoDb.append({\n",
    "    \"FirstName\": \"Howie\",\n",
    "    \"LastName\": \"Nguyen\",\n",
    "    \"DOB\": \"January 21, 2007\",\n",
    "    \"Residence\": \"San Diego\",\n",
    "    \"Email\": \"howien07@gmail.com\",\n",
    "    \"Cool?\": [\"Yes\"]\n",
    "})\n",
    "\n",
    "# Append to List a 3rd Dictionary of key/values\n",
    "InfoDb.append({\n",
    "    \"FirstName\": \"Nihar\",\n",
    "    \"LastName\": \"Gupta\",\n",
    "    \"DOB\": \"September 10, 2008\",\n",
    "    \"Residence\": \"San Diego\",\n",
    "    \"Email\": \"niharg@gmail.com\",\n",
    "    \"Cool?\": [\"Yes\"]\n",
    "})\n",
    "\n",
    "# Print the data structure\n",
    "print(InfoDb)\n",
    "\n",
    "# This jupyter cell has dependencies on one or more cells above\n",
    "\n",
    "# print function: given a dictionary of InfoDb content\n",
    "def print_data(d_rec):\n",
    "    print(d_rec[\"FirstName\"], d_rec[\"LastName\"])  # using comma puts space between values\n",
    "    print(\"\\t\", \"Residence:\", d_rec[\"Residence\"]) # \\t is a tab indent\n",
    "    print(\"\\t\", \"Birth Day:\", d_rec[\"DOB\"])\n",
    "    print(\"\\t\", \"Cool kid???: \", end=\"\")  # end=\"\" make sure no return occurs\n",
    "    print(\", \".join(d_rec[\"Cool?\"]))  # join allows printing a string list with separator\n",
    "    print()\n",
    "\n",
    "\n",
    "# for loop algorithm iterates on length of InfoDb\n",
    "def for_loop():\n",
    "    print(\"For loop output\\n\")\n",
    "    for record in InfoDb:\n",
    "        print_data(record) # call to function\n",
    "\n",
    "for_loop() # call to function"
   ]
  },
  {
   "cell_type": "code",
   "execution_count": 2,
   "metadata": {},
   "outputs": [
    {
     "name": "stdout",
     "output_type": "stream",
     "text": [
      "x is not greater than 5\n"
     ]
    }
   ],
   "source": [
    "x = 1\n",
    "\n",
    "if x > 10:\n",
    "    print(\"x is greater than 5\")\n",
    "else:\n",
    "    print(\"x is not greater than 5\")"
   ]
  },
  {
   "cell_type": "markdown",
   "metadata": {},
   "source": [
    "## Program Design and Development\n",
    "The following program calculates the average of numbers in a list using iteration:\n"
   ]
  },
  {
   "cell_type": "code",
   "execution_count": 3,
   "metadata": {},
   "outputs": [
    {
     "name": "stdout",
     "output_type": "stream",
     "text": [
      "List of Numbers: [10, 20, 30, 40, 50]\n",
      "Sum of Numbers: 150\n",
      "Average: 30.0\n"
     ]
    }
   ],
   "source": [
    "# Define a list of numbers\n",
    "numbers = [10, 20, 30, 40, 50]\n",
    "\n",
    "# Initialize a variable to store the sum of numbers\n",
    "total = 0\n",
    "\n",
    "# Iterate through the list of numbers\n",
    "for num in numbers:\n",
    "    # Add each number to the total\n",
    "    total += num\n",
    "\n",
    "# Calculate the average by dividing the total by the number of elements in the list\n",
    "average = total / len(numbers)\n",
    "\n",
    "# Print the list of numbers\n",
    "print(\"List of Numbers:\", numbers)\n",
    "\n",
    "# Print the sum of numbers\n",
    "print(\"Sum of Numbers:\", total)\n",
    "\n",
    "# Print the average\n",
    "print(\"Average:\", average)"
   ]
  },
  {
   "cell_type": "markdown",
   "metadata": {},
   "source": [
    "We start by defining a list of numbers called numbers.\n",
    "\n",
    "We initialize a variable total to store the sum of the numbers, setting it to 0.\n",
    "\n",
    "We use a for loop to iterate through each element in the numbers list. The variable num represents each number in the list during each iteration.\n",
    "\n",
    "Inside the loop, we add each number to the total using the += operator.\n",
    "\n",
    "After the loop has finished iterating through all the numbers, we calculate the average by dividing the total by the number of elements in the list, which is obtained using the len() function.\n",
    "\n",
    "We print the list of numbers, the sum of numbers, and the calculated average to the console."
   ]
  },
  {
   "cell_type": "markdown",
   "metadata": {},
   "source": [
    "## Identyfing and Correct Errors\n"
   ]
  },
  {
   "cell_type": "markdown",
   "metadata": {},
   "source": [
    "Old Bugged Code:"
   ]
  },
  {
   "cell_type": "code",
   "execution_count": 4,
   "metadata": {},
   "outputs": [
    {
     "name": "stdout",
     "output_type": "stream",
     "text": [
      "Menu\n",
      "burger  $3.99\n",
      "fries  $1.99\n",
      "drink  $0.99\n",
      "0\n"
     ]
    }
   ],
   "source": [
    "menu =  {\"burger\": 3.99,\n",
    "         \"fries\": 1.99,\n",
    "         \"drink\": 0.99}\n",
    "total = 0\n",
    "\n",
    "#shows the user the menu and prompts them to select an item\n",
    "print(\"Menu\")\n",
    "for k,v in menu.items():\n",
    "    print(k + \"  $\" + str(v)) #why does v have \"str\" in front of it?\n",
    "\n",
    "#ideally the code should prompt the user multiple times\n",
    "item = input(\"Please select an item from the menu\")\n",
    "\n",
    "#code should add the price of the menu items selected by the user \n",
    "print(total)"
   ]
  },
  {
   "cell_type": "markdown",
   "metadata": {},
   "source": [
    "New Fixed Code: Creates dictionary called `menu`. An empty list bill is created to store the selected items' prices.\n",
    "\n",
    "The code then displays the menu by iterating through the dictionary using a for loop and prints each menu item along with its price, formatted with two decimal places using f-strings. The code enters a while loop, which continues until the user enters \"done\" as their selection.\n",
    "\n",
    "Inside the loop, the user is prompted to input their choice of menu item. The .lower() method is used to convert the input to lowercase to make it case-insensitive.\n",
    "\n",
    "If the user enters \"done,\" the loop breaks, ending the menu selection process.\n",
    "\n",
    "If the user enters a valid menu item (found in the menu dictionary), the price of that item is appended to the bill list, and a message is printed to confirm the item's addition to the bill.\n",
    "\n",
    "If the user enters an invalid item, they receive an error message. Finally, after exiting the loop, the code calculates the total cost by summing the values in the bill list using the sum() function.\n",
    "\n",
    "If there are items in the bill, it prints the total bill amount with two decimal places.\n",
    "\n",
    "If no items were selected, it informs the user that no items were chosen."
   ]
  },
  {
   "cell_type": "code",
   "execution_count": 1,
   "metadata": {},
   "outputs": [
    {
     "name": "stdout",
     "output_type": "stream",
     "text": [
      "Menu\n",
      "burger: $3.99\n",
      "fries: $1.99\n",
      "drink: $0.99\n",
      "Burger added to the bill.\n",
      "Fries added to the bill.\n",
      "Your total bill amount is: $5.98\n"
     ]
    }
   ],
   "source": [
    "menu = {\n",
    "    \"burger\": 3.99,\n",
    "    \"fries\": 1.99,\n",
    "    \"drink\": 0.99\n",
    "}\n",
    "\n",
    "bill = []\n",
    "\n",
    "# Display the menu\n",
    "print(\"Menu\")\n",
    "for item, price in menu.items():\n",
    "    print(f\"{item}: ${price:.2f}\")\n",
    "\n",
    "while True:\n",
    "    item = input(\"Please select an item from the menu (or enter 'done' to finish): \").lower()\n",
    "\n",
    "    if item == 'done':\n",
    "        break\n",
    "\n",
    "    if item in menu:\n",
    "        bill.append(menu[item])\n",
    "        print(f\"{item.capitalize()} added to the bill.\")\n",
    "    else:\n",
    "        print(\"Invalid item. Please select an item from the menu or enter 'done' to finish.\")\n",
    "\n",
    "if bill:\n",
    "    total_cost = sum(bill)\n",
    "    print(f\"Your total bill amount is: ${total_cost:.2f}\")\n",
    "else:\n",
    "    print(\"No items selected. Have a nice day!\")\n"
   ]
  }
 ],
 "metadata": {
  "kernelspec": {
   "display_name": "Python 3",
   "language": "python",
   "name": "python3"
  },
  "language_info": {
   "codemirror_mode": {
    "name": "ipython",
    "version": 3
   },
   "file_extension": ".py",
   "mimetype": "text/x-python",
   "name": "python",
   "nbconvert_exporter": "python",
   "pygments_lexer": "ipython3",
   "version": "3.11.4"
  },
  "orig_nbformat": 4
 },
 "nbformat": 4,
 "nbformat_minor": 2
}
