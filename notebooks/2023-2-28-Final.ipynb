{
 "cells": [
  {
   "cell_type": "markdown",
   "metadata": {},
   "source": [
    "Reflecting on my year in an AP Computer Science Principles (AP CSP) class, there are several key takeaways and insights that come to mind. This course is designed to introduce students to the world of computer science, programming, and computational thinking, and it provides a foundation for understanding the broader impact of technology on society. Here are some of my personal reflections on the experience:\n",
    "\n",
    "Broadening My Perspective: AP CSP has exposed me to a diverse range of computing concepts, from algorithms and data to the ethical and social implications of technology. It has encouraged me to think beyond coding and to understand how technology affects society.\n",
    "\n",
    "Developing Problem-Solving Skills: One of the primary objectives of AP CSP is to develop problem-solving skills. I've learned how to approach complex problems, break them down into manageable parts, and devise solutions through programming. These skills are not only valuable in computer science but also in various aspects of life.\n",
    "\n",
    "Coding and Abstraction: I've gained a fundamental understanding of coding and abstraction, realizing that complex problems can be broken down into simpler steps and coded in a way that a computer can execute. This abstraction is a key concept in computer science and extends to many areas of life.\n",
    "\n",
    "Collaboration: The course often includes collaborative projects, which have taught me how to work effectively in teams. Collaboration is a crucial skill, not only in computer science but also in most professional settings.\n",
    "\n",
    "Creative Expression: Computer science is not just about numbers and logic; it's also a form of creative expression. In AP CSP, I've discovered how to create programs and interactive applications that reflect my ideas and creativity.\n",
    "\n",
    "Ethical Considerations: AP CSP delves into the ethical and societal impacts of technology. It has prompted me to consider issues like privacy, security, and the responsible use of data. These discussions are vital in a world increasingly shaped by technology.\n",
    "\n",
    "Real-World Relevance: This course has demonstrated how computer science is relevant to real-world problems. I've learned how computational thinking can be applied to various fields, from healthcare and finance to environmental science.\n",
    "\n",
    "Preparation for Further Studies: For me, as someone who plans to pursue computer science in college, AP CSP has provided an excellent foundation. It has introduced me to the basics of programming, data analysis, and more, which I believe will make the transition to higher-level courses smoother.\n",
    "\n",
    "Overcoming Challenges: Computer science can be challenging, but through this course, I've learned how to persevere, debug code, and overcome obstacles. These problem-solving skills are transferable to other areas of life.\n",
    "\n",
    "Life Skills: Beyond the technical aspects, AP CSP has equipped me with critical life skills, such as adaptability, logical thinking, and a growth mindset. These skills are invaluable in a world that is constantly evolving.\n",
    "\n",
    "In conclusion, my experience in an AP CSP class has offered me a rich and multifaceted learning journey. It has not only equipped me with essential computer science knowledge but has also fostered a deeper understanding of how technology impacts the world. The course has instilled problem-solving skills, ethical awareness, and the ability to collaborate effectively, making it a valuable educational experience for me as I pursue my interests in computer science and seek to develop important life skills."
   ]
  },
  {
   "cell_type": "markdown",
   "metadata": {},
   "source": [
    "<h1> Work From Casino Simulator</h1>"
   ]
  },
  {
   "cell_type": "code",
   "execution_count": null,
   "metadata": {
    "vscode": {
     "languageId": "html"
    }
   },
   "outputs": [],
   "source": [
    "---\n",
    "layout: default\n",
    "title: Roulette\n",
    "permalink: /Roulette\n",
    "---\n",
    " <!DOCTYPE html>\n",
    "<html lang=\"en\">\n",
    "<head>\n",
    "<meta charset=\"UTF-8\">\n",
    "<meta name=\"viewport\" content=\"width=device-width, initial-scale=1.0\">\n",
    "<title>Roulette Game</title>\n",
    "<style>\n",
    "    body {\n",
    "        font-family: Arial, sans-serif;\n",
    "    }\n",
    "    table {\n",
    "        border-collapse: collapse;\n",
    "        margin: 20px auto;\n",
    "    }\n",
    "    th, td {\n",
    "        border: 1px solid #ddd;\n",
    "        padding: 10px; f\n",
    "        text-align: center;\n",
    "    }\n",
    "    th {\n",
    "        background-color: #f2f2f2;\n",
    "    }\n",
    "    .result {\n",
    "        margin-top: 20px;\n",
    "        text-align: center;\n",
    "    }\n",
    "</style>\n",
    "</head>\n",
    "<body>\n",
    "<h1>Roulette Game</h1>\n",
    "<table>\n",
    "    <tr>\n",
    "        <th>1st 12</th>\n",
    "        <th>2nd 12</th>\n",
    "        <th>3rd 12</th>\n",
    "    </tr>\n",
    "    <tr>\n",
    "        <th>1 to 18</th>\n",
    "        <th>EVEN</th>\n",
    "        <th>RED</th>\n",
    "    </tr>\n",
    "    <tr>\n",
    "        <th>BLACK</th>\n",
    "        <th>ODD</th>\n",
    "        <th>19 to 36</th>\n",
    "    </tr>\n",
    "</table>\n",
    "<div class=\"result\"></div>\n",
    "<button onclick=\"spinWheel()\">Spin Wheel</button>\n",
    "<script>\n",
    "    function generateWheel() {\n",
    "        let wheel = [];\n",
    "        for (let i = 1; i <= 36; i++) {\n",
    "            wheel.push(i.toString());\n",
    "        }\n",
    "        wheel.push(\"0\", \"00\");\n",
    "        return wheel;\n",
    "    }\n",
    "    function spinWheel() {\n",
    "        const wheel = generateWheel();\n",
    "        const resultDiv = document.querySelector('.result');\n",
    "        const bet = prompt(\"Place your bet (number between 0 and 36):\");\n",
    "        const spinResult = wheel[Math.floor(Math.random() * wheel.length)];\n",
    "        if (bet === spinResult) {\n",
    "            resultDiv.textContent = `The wheel landed on ${spinResult}! You win!`;\n",
    "        } else {\n",
    "            resultDiv.textContent = `The wheel landed on ${spinResult}. You lose!`;\n",
    "        }\n",
    "    }\n",
    "</script>\n",
    "</body>\n",
    "</html>"
   ]
  },
  {
   "cell_type": "markdown",
   "metadata": {},
   "source": [
    "This code is a simple HTML and JavaScript implementation of a roulette game. The HTML defines the structure of the page, including the layout of the betting options and a button to spin the wheel. The JavaScript generates a random result when the wheel is spun and compares it to the player's bet, displaying a message indicating whether they win or lose. The game uses an array to simulate the roulette wheel, with numbers 1-36 representing the numbered slots on the wheel, along with \"0\" and \"00\" for the green slots.\n",
    "\n",
    "\n",
    "\n"
   ]
  },
  {
   "cell_type": "code",
   "execution_count": null,
   "metadata": {},
   "outputs": [],
   "source": [
    "class CalCalcAPI(Resource):\n",
    "    def post(self):\n",
    "        try:\n",
    "            data = request.get_json()\n",
    "\n",
    "            # Ensure that all required fields are present in the request JSON\n",
    "            required_fields = ['age', 'weight', 'height', 'activity', 'gender', 'username']\n",
    "            for field in required_fields:\n",
    "                if field not in data:\n",
    "                    return {'error': f\"Missing field: {field}\"}, 400\n",
    "\n",
    "            # Calculate calorie maintenance (you can reuse your client-side logic here)\n",
    "            calorie_maintenance = calculateCalories(data)\n",
    "\n",
    "            # Calculate the meal plan based on calorie maintenance\n",
    "            mealPlan = ''\n",
    "            mealPlanNumber = 0\n",
    "            if calorie_maintenance < 1000:\n",
    "                mealPlan = 'Meal Plan 1'\n",
    "            else:\n",
    "                mealPlanNumber = (calorie_maintenance - 1000) // 250 + 1\n",
    "                mealPlan = f'Meal Plan {mealPlanNumber}'\n"
   ]
  },
  {
   "cell_type": "markdown",
   "metadata": {},
   "source": [
    "This code defines a Python class called CalCalcAPI that's used to handle incoming requests to a web service. When a user sends data to this service, it first checks if the required information, like age, weight, height, activity level, gender, and username, is present in the request. If any of these are missing, it sends back an error message.\n",
    "\n",
    "Next, the code calculates the number of calories a person needs to maintain their weight (calorie maintenance) using a function called calculateCalories. Then, it determines a meal plan based on this calorie maintenance. If the maintenance is less than 1000 calories, it sets the meal plan to \"Meal Plan 1.\" If it's more, it calculates a meal plan number based on the maintenance and assigns a corresponding plan name, like \"Meal Plan 2,\" \"Meal Plan 3,\" and so on. This code is part of a web application that helps users plan their meals based on their information."
   ]
  },
  {
   "cell_type": "markdown",
   "metadata": {},
   "source": [
    "<h1> Team Teach Summaries/Understandings </h1>"
   ]
  },
  {
   "cell_type": "markdown",
   "metadata": {},
   "source": [
    "Simulations and Algorithmic Efficiency: Simulations involve emulating real-world processes using computational models, and algorithmic efficiency is crucial for optimizing the performance of these simulations.\n",
    "\n",
    "Libraries: Libraries are pre-written collections of code that provide reusable functions and tools for various programming tasks.\n",
    "\n",
    "Lists and Searches: Lists are data structures that store ordered collections of items, and searches involve looking for a specific item within a list efficiently.\n",
    "\n",
    "Algorithms: Algorithms are step-by-step instructions for solving specific computational problems or performing tasks, often used in programming and mathematics.\n",
    "\n",
    "Developing Algorithms: Developing algorithms is the process of designing and creating well-defined sequences of steps to solve particular problems or accomplish specific goals.\n",
    "\n",
    "Iteration: Iteration involves repeating a set of instructions or processes multiple times, often in a loop, to achieve a desired outcome or handle a series of data elements.\n",
    "\n",
    "Boolean Expressions & Conditionals: Boolean expressions are logical statements that evaluate to either true or false, and conditionals are programming constructs used to make decisions based on the truth or falsity of these expressions."
   ]
  },
  {
   "cell_type": "markdown",
   "metadata": {
    "tags": [
     "parameters"
    ]
   },
   "source": [
    "<h3>What went well:</h3>\n",
    "my team’s passion project idea\n",
    "<br>\n",
    "doing well on our team teach about developing developing procedure\n",
    "<br>\n",
    "collaborating with others that were better at coding than me so I could learn from them\n",
    "<br>\n",
    "<h3>What was hard:</h3>\n",
    "deploying our flask portfolio\n",
    "<br>\n",
    "creating an api to link to the frontend\n",
    "<br>\n",
    "coding the frontend page correctly to fetch our data from the backend repository which took the most time out of all my tasks\n",
    "<br>\n",
    "deploying my website correctly and changing my theme\n",
    "<br>\n",
    "working with the AWS console"
   ]
  }
 ],
 "metadata": {
  "language_info": {
   "name": "python"
  }
 },
 "nbformat": 4,
 "nbformat_minor": 2
}
